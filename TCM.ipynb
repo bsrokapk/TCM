{
 "cells": [
  {
   "cell_type": "markdown",
   "metadata": {},
   "source": [
    "# Klasa TCM"
   ]
  },
  {
   "cell_type": "code",
   "execution_count": 1,
   "metadata": {
    "collapsed": true
   },
   "outputs": [],
   "source": [
    "from pymprog import begin, var, maximize, solve, end, iprod, par, minimize, vobj, solver, glpk, sensitivity\n",
    "\n",
    "from numpy import array, zeros, ones, amax, transpose, reshape, size, eye,\\\n",
    "    concatenate, shape, sum, append\n",
    "from scipy.optimize._linprog import linprog\n",
    "from numpy.random import permutation\n",
    "from itertools import permutations\n",
    "from time import clock\n",
    "import xlwt\n",
    "from pylab import plot, show, bar\n",
    "from math import inf\n",
    "\n",
    "class TCM(object):\n",
    "    \n",
    "    def __init__(self,t,tcdo,tcdb,tcgo,tcgb,cwdo,cwdb,cwgo,cwgb):\n",
    "        '''t-tablica czasow trwania\n",
    "        tco - sprzezenia czasowe pomiedzy obiektami\n",
    "        tcb - sprzezenia czasowe pomiedzy brygadami\n",
    "        wco - wagi sprzezen pomiedzy obiektami\n",
    "        wcb - wagi sprzezn pomiedzy brygadami\n",
    "        '''\n",
    "                \n",
    "        self.ro=0.0001\n",
    "        \n",
    "        self.t=t\n",
    "        \n",
    "        self.tcdo=tcdo\n",
    "        self.tcdb=tcdb\n",
    "        \n",
    "        self.tcgo=tcgo\n",
    "        self.tcgb=tcgb\n",
    "        \n",
    "        self.cwdo=cwdo\n",
    "        self.cwdb=cwdb\n",
    "        \n",
    "        self.cwgo=cwgo\n",
    "        self.cwgb=cwgb\n",
    "        \n",
    "        (self.onumber,self.bnumber)=shape(self.t)\n",
    "        \n",
    "        self.solve()\n",
    "\n",
    "            \n",
    "\n",
    "        \n",
    "    def solve(self):\n",
    "        \n",
    "        p=begin('TCM')\n",
    "        W=iprod(range(self.onumber),range(self.bnumber)) # tablica zamiennych decyzyjnych dla NWR NWZ NPR NPZ\n",
    "        O=iprod(range(self.onumber-1),range(self.bnumber)) #tablica zmiennych dla cko - sprzezen korygujacych pomiedzy obiektami\n",
    "        B=iprod(range(self.onumber),range(self.bnumber-1)) #tablica zmiennych dla ckb - sprzezen korygujacych pomiedzy brygadami\n",
    "        \n",
    "        NWR=var('NWR',W) #czas trwania czynnosci\n",
    "        NWZ=var('NWZ',W)\n",
    "        NPR=var('NPR',W)\n",
    "        NPZ=var('NPZ',W)\n",
    "        ckdo=var('ckdo',O)\n",
    "        ckdb=var('ckdb',B)\n",
    "        ckgo=var('ckgo',O)\n",
    "        ckgb=var('ckgb',B)\n",
    "        ZC=var('ZC',W)\n",
    "        \n",
    "        t=par('t',self.t)\n",
    "        \n",
    "        tcdo=par('tcdo',self.tcdo) #parametry\n",
    "        tcdb=par('tcdb',self.tcdb)\n",
    "        \n",
    "        tcgo=par('tcgo',self.tcgo)\n",
    "        tcgb=par('tcgb',self.tcgb)\n",
    "        \n",
    "        cwdo=par('cwdo',self.cwdo)\n",
    "        cwdb=par('cwdb',self.cwdb)\n",
    "        \n",
    "        cwgo=par('cwgo',self.cwgo)\n",
    "        cwgb=par('cwgb',self.cwgb)\n",
    "        \n",
    "\n",
    "        #funkcja celu - minimalne koszty\n",
    "        minimize(sum([ckdo[i,j]*cwdo[i][j]+ckgo[i,j]*cwgo[i][j] for (i,j) in O])+sum([ckdb[i,j]*cwdb[i][j]+ckgb[i,j]*cwgb[i][j] for (i,j) in B])+sum([NWZ[i,j]*self.ro-NPZ[i,j]*self.ro for (i,j) in W])+NWZ[self.onumber-1,self.bnumber-1])\n",
    "        \n",
    "        NWR[0,0] == 0\n",
    "        \n",
    "        for (i,j) in W:\n",
    "            \n",
    "            NWZ[i,j]==NWR[i,j]+t[i][j]\n",
    "            NPZ[i,j]==NPR[i,j]+t[i][j]\n",
    "            ZC[i,j]==NPZ[i,j]-NWZ[i,j]\n",
    "            \n",
    "        for (i,j) in O:\n",
    "            NWR[i+1,j]>=NWZ[i,j]+tcdo[i][j]-ckdo[i,j]\n",
    "            NPR[i+1,j]>=NPZ[i,j]+tcdo[i][j]-ckdo[i,j]\n",
    "            \n",
    "            NWR[i+1,j]<=NWZ[i,j]+tcgo[i][j]+ckgo[i,j]\n",
    "            NPR[i+1,j]<=NPZ[i,j]+tcgo[i][j]+ckgo[i,j]\n",
    "            \n",
    "        for (i,j) in B:\n",
    "            NWR[i,j+1]>=NWZ[i,j]+tcdb[i][j]-ckdb[i,j]\n",
    "            NPR[i,j+1]>=NPZ[i,j]+tcdb[i][j]-ckdb[i,j]\n",
    "            \n",
    "            NWR[i,j+1]<=NWZ[i,j]+tcgb[i][j]+ckgb[i,j]\n",
    "            NPR[i,j+1]<=NPZ[i,j]+tcgb[i][j]+ckgb[i,j]\n",
    "            \n",
    "        NWZ[self.onumber-1,self.bnumber-1]==NPZ[self.onumber-1,self.bnumber-1]\n",
    "            \n",
    "        \n",
    "        #parametry solvera\n",
    "        #solver(float,msg_lev=glpk.GLP_MSG_OFF)\n",
    "        \n",
    "        p.solve()\n",
    "        \n",
    "        print(vobj())\n",
    "        \n",
    "        for (i,j) in W:\n",
    "            print(i,j,'NWR',NWR[i,j].primal,'NWZ',NWZ[i,j].primal,'NPR',NPR[i,j].primal,'NPZ',NPZ[i,j].primal,'ZC',ZC[i,j].primal)\n",
    "        for (i,j) in O:\n",
    "            print(i,j,'ckdo',ckdo[i,j].primal,'ckgo',ckgo[i,j].primal)       \n",
    "        for (i,j) in B:\n",
    "            print(i,j,'ckdb',ckdb[i,j].primal,'ckgb',ckgb[i,j].primal)\n",
    "        \n",
    "        #sensitivity()"
   ]
  },
  {
   "cell_type": "markdown",
   "metadata": {},
   "source": [
    "# Model 1: Brak ograniczeń"
   ]
  },
  {
   "cell_type": "code",
   "execution_count": 2,
   "metadata": {},
   "outputs": [
    {
     "name": "stdout",
     "output_type": "stream",
     "text": [
      "42.9983\n",
      "0 0 NWR 0.0 NWZ 3.0 NPR 0.0 NPZ 3.0 ZC 0.0\n",
      "0 1 NWR 3.0 NWZ 11.0 NPR 3.0 NPZ 11.0 ZC 0.0\n",
      "0 2 NWR 11.0 NWZ 16.0 NPR 15.0 NPZ 20.0 ZC 4.0\n",
      "0 3 NWR 16.0 NWZ 22.0 NPR 21.0 NPZ 27.0 ZC 5.0\n",
      "1 0 NWR 3.0 NWZ 11.0 NPR 3.0 NPZ 11.0 ZC 0.0\n",
      "1 1 NWR 11.0 NWZ 20.0 NPR 11.0 NPZ 20.0 ZC 0.0\n",
      "1 2 NWR 20.0 NWZ 27.0 NPR 20.0 NPZ 27.0 ZC 0.0\n",
      "1 3 NWR 27.0 NWZ 36.0 NPR 27.0 NPZ 36.0 ZC 0.0\n",
      "2 0 NWR 11.0 NWZ 15.0 NPR 17.0 NPZ 21.0 ZC 6.0\n",
      "2 1 NWR 20.0 NWZ 27.0 NPR 21.0 NPZ 28.0 ZC 1.0\n",
      "2 2 NWR 27.0 NWZ 35.0 NPR 28.0 NPZ 36.0 ZC 1.0\n",
      "2 3 NWR 36.0 NWZ 43.0 NPR 36.0 NPZ 43.0 ZC 0.0\n",
      "0 0 ckdo 0.0 ckgo 0.0\n",
      "0 1 ckdo 0.0 ckgo 0.0\n",
      "0 2 ckdo 0.0 ckgo 0.0\n",
      "0 3 ckdo 0.0 ckgo 0.0\n",
      "1 0 ckdo 0.0 ckgo 0.0\n",
      "1 1 ckdo 0.0 ckgo 0.0\n",
      "1 2 ckdo 0.0 ckgo 0.0\n",
      "1 3 ckdo 0.0 ckgo 0.0\n",
      "0 0 ckdb 0.0 ckgb 0.0\n",
      "0 1 ckdb 0.0 ckgb 0.0\n",
      "0 2 ckdb 0.0 ckgb 0.0\n",
      "1 0 ckdb 0.0 ckgb 0.0\n",
      "1 1 ckdb 0.0 ckgb 0.0\n",
      "1 2 ckdb 0.0 ckgb 0.0\n",
      "2 0 ckdb 0.0 ckgb 0.0\n",
      "2 1 ckdb 0.0 ckgb 0.0\n",
      "2 2 ckdb 0.0 ckgb 0.0\n"
     ]
    },
    {
     "data": {
      "text/plain": [
       "<__main__.TCM at 0x268e6173208>"
      ]
     },
     "execution_count": 2,
     "metadata": {},
     "output_type": "execute_result"
    }
   ],
   "source": [
    "t=[[3,8,5,6],\n",
    "    [8,9,7,9],\n",
    "    [4,7,8,7]]\n",
    "    \n",
    "tcdo=[[0,0,0,0],\n",
    "    [0,0,0,0]]\n",
    "tcdb=[[0,0,0],\n",
    "    [0,0,0],\n",
    "    [0,0,0]]\n",
    "    \n",
    "tcgo=[[100,100,100,100],\n",
    "    [100,100,100,100]]\n",
    "tcgb=[[100,100,100],\n",
    "    [100,100,100],\n",
    "    [100,100,100]]\n",
    "    \n",
    "cwdo=[[100,100,100,100],\n",
    "    [100,100,100,100]]\n",
    "cwdb=[[100,100,100],\n",
    "    [100,100,100],\n",
    "    [100,100,100]]\n",
    "    \n",
    "cwgo=[[100,100,100,100],\n",
    "    [100,100,100,100]]\n",
    "cwgb=[[100,100,100],\n",
    "    [100,100,100],\n",
    "    [100,100,100]]\n",
    "\n",
    "\n",
    "TCM(t,tcdo,tcdb,tcgo,tcgb,cwdo,cwdb,cwgo,cwgb)"
   ]
  },
  {
   "cell_type": "markdown",
   "metadata": {},
   "source": [
    "# Model 2: Ciagłość pracy brygad"
   ]
  },
  {
   "cell_type": "code",
   "execution_count": 3,
   "metadata": {},
   "outputs": [
    {
     "name": "stdout",
     "output_type": "stream",
     "text": [
      "43.0\n",
      "0 0 NWR 0.0 NWZ 3.0 NPR 0.0 NPZ 3.0 ZC 0.0\n",
      "0 1 NWR 3.0 NWZ 11.0 NPR 3.0 NPZ 11.0 ZC 0.0\n",
      "0 2 NWR 15.0 NWZ 20.0 NPR 15.0 NPZ 20.0 ZC 0.0\n",
      "0 3 NWR 21.0 NWZ 27.0 NPR 21.0 NPZ 27.0 ZC 0.0\n",
      "1 0 NWR 3.0 NWZ 11.0 NPR 3.0 NPZ 11.0 ZC 0.0\n",
      "1 1 NWR 11.0 NWZ 20.0 NPR 11.0 NPZ 20.0 ZC 0.0\n",
      "1 2 NWR 20.0 NWZ 27.0 NPR 20.0 NPZ 27.0 ZC 0.0\n",
      "1 3 NWR 27.0 NWZ 36.0 NPR 27.0 NPZ 36.0 ZC 0.0\n",
      "2 0 NWR 11.0 NWZ 15.0 NPR 11.0 NPZ 15.0 ZC 0.0\n",
      "2 1 NWR 20.0 NWZ 27.0 NPR 20.0 NPZ 27.0 ZC 0.0\n",
      "2 2 NWR 27.0 NWZ 35.0 NPR 27.0 NPZ 35.0 ZC 0.0\n",
      "2 3 NWR 36.0 NWZ 43.0 NPR 36.0 NPZ 43.0 ZC 0.0\n",
      "0 0 ckdo 0.0 ckgo 0.0\n",
      "0 1 ckdo 0.0 ckgo 0.0\n",
      "0 2 ckdo 0.0 ckgo 0.0\n",
      "0 3 ckdo 0.0 ckgo 0.0\n",
      "1 0 ckdo 0.0 ckgo 0.0\n",
      "1 1 ckdo 0.0 ckgo 0.0\n",
      "1 2 ckdo 0.0 ckgo 0.0\n",
      "1 3 ckdo 0.0 ckgo 0.0\n",
      "0 0 ckdb 0.0 ckgb 0.0\n",
      "0 1 ckdb 0.0 ckgb 0.0\n",
      "0 2 ckdb 0.0 ckgb 0.0\n",
      "1 0 ckdb 0.0 ckgb 0.0\n",
      "1 1 ckdb 0.0 ckgb 0.0\n",
      "1 2 ckdb 0.0 ckgb 0.0\n",
      "2 0 ckdb 0.0 ckgb 0.0\n",
      "2 1 ckdb 0.0 ckgb 0.0\n",
      "2 2 ckdb 0.0 ckgb 0.0\n"
     ]
    },
    {
     "data": {
      "text/plain": [
       "<__main__.TCM at 0x268e61780f0>"
      ]
     },
     "execution_count": 3,
     "metadata": {},
     "output_type": "execute_result"
    }
   ],
   "source": [
    "tcdo=[[0,0,0,0],\n",
    "    [0,0,0,0]]\n",
    "tcdb=[[0,0,0],\n",
    "    [0,0,0],\n",
    "    [0,0,0]]\n",
    "    \n",
    "tcgo=[[0,0,0,0],\n",
    "    [0,0,0,0]]\n",
    "tcgb=[[100,100,100],\n",
    "    [100,100,100],\n",
    "    [100,100,100]]\n",
    "    \n",
    "cwdo=[[100,100,100,100],\n",
    "    [100,100,100,100]]\n",
    "cwdb=[[100,100,100],\n",
    "    [100,100,100],\n",
    "    [100,100,100]]\n",
    "    \n",
    "cwgo=[[100,100,100,100],\n",
    "    [100,100,100,100]]\n",
    "cwgb=[[100,100,100],\n",
    "    [100,100,100],\n",
    "    [100,100,100]]\n",
    "\n",
    "\n",
    "TCM(t,tcdo,tcdb,tcgo,tcgb,cwdo,cwdb,cwgo,cwgb)"
   ]
  },
  {
   "cell_type": "markdown",
   "metadata": {},
   "source": [
    "# Model 3: Ciagłość pracy na obiektach"
   ]
  },
  {
   "cell_type": "code",
   "execution_count": 4,
   "metadata": {},
   "outputs": [
    {
     "name": "stdout",
     "output_type": "stream",
     "text": [
      "42.99999999999999\n",
      "0 0 NWR 0.0 NWZ 3.0 NPR 0.0 NPZ 3.0 ZC 0.0\n",
      "0 1 NWR 3.0 NWZ 11.0 NPR 3.0 NPZ 11.0 ZC 0.0\n",
      "0 2 NWR 11.0 NWZ 16.0 NPR 11.0 NPZ 16.0 ZC 0.0\n",
      "0 3 NWR 16.0 NWZ 22.0 NPR 16.0 NPZ 22.0 ZC 0.0\n",
      "1 0 NWR 3.0 NWZ 11.0 NPR 3.0 NPZ 11.0 ZC 0.0\n",
      "1 1 NWR 11.0 NWZ 20.0 NPR 11.0 NPZ 20.0 ZC 0.0\n",
      "1 2 NWR 20.0 NWZ 27.0 NPR 20.0 NPZ 27.0 ZC 0.0\n",
      "1 3 NWR 27.0 NWZ 36.0 NPR 27.0 NPZ 36.0 ZC 0.0\n",
      "2 0 NWR 17.0 NWZ 21.0 NPR 17.0 NPZ 21.0 ZC 0.0\n",
      "2 1 NWR 21.0 NWZ 28.0 NPR 21.0 NPZ 28.0 ZC 0.0\n",
      "2 2 NWR 28.0 NWZ 36.0 NPR 28.0 NPZ 36.0 ZC 0.0\n",
      "2 3 NWR 36.0 NWZ 43.0 NPR 36.0 NPZ 43.0 ZC 0.0\n",
      "0 0 ckdo 0.0 ckgo 0.0\n",
      "0 1 ckdo 0.0 ckgo 0.0\n",
      "0 2 ckdo 0.0 ckgo 0.0\n",
      "0 3 ckdo 0.0 ckgo 0.0\n",
      "1 0 ckdo 0.0 ckgo 0.0\n",
      "1 1 ckdo 0.0 ckgo 0.0\n",
      "1 2 ckdo 0.0 ckgo 0.0\n",
      "1 3 ckdo 0.0 ckgo 0.0\n",
      "0 0 ckdb 0.0 ckgb 0.0\n",
      "0 1 ckdb 0.0 ckgb 0.0\n",
      "0 2 ckdb 0.0 ckgb 0.0\n",
      "1 0 ckdb 0.0 ckgb 0.0\n",
      "1 1 ckdb 0.0 ckgb 0.0\n",
      "1 2 ckdb 0.0 ckgb 0.0\n",
      "2 0 ckdb 0.0 ckgb 0.0\n",
      "2 1 ckdb 0.0 ckgb 0.0\n",
      "2 2 ckdb 0.0 ckgb 0.0\n"
     ]
    },
    {
     "data": {
      "text/plain": [
       "<__main__.TCM at 0x268e6185f98>"
      ]
     },
     "execution_count": 4,
     "metadata": {},
     "output_type": "execute_result"
    }
   ],
   "source": [
    "tcdo=[[0,0,0,0],\n",
    "    [0,0,0,0]]\n",
    "tcdb=[[0,0,0],\n",
    "    [0,0,0],\n",
    "    [0,0,0]]\n",
    "    \n",
    "tcgo=[[100,100,100,100],\n",
    "    [100,100,100,100]]\n",
    "tcgb=[[0,0,0],\n",
    "    [0,0,0],\n",
    "    [0,0,0]]\n",
    "    \n",
    "cwdo=[[100,100,100,100],\n",
    "    [100,100,100,100]]\n",
    "cwdb=[[100,100,100],\n",
    "    [100,100,100],\n",
    "    [100,100,100]]\n",
    "    \n",
    "cwgo=[[100,100,100,100],\n",
    "    [100,100,100,100]]\n",
    "cwgb=[[100,100,100],\n",
    "    [100,100,100],\n",
    "    [100,100,100]]\n",
    "\n",
    "\n",
    "TCM(t,tcdo,tcdb,tcgo,tcgb,cwdo,cwdb,cwgo,cwgb)"
   ]
  },
  {
   "cell_type": "markdown",
   "metadata": {},
   "source": [
    "# Model 4: Ciagłość pracy dla 3 obiektu i 3 brygady"
   ]
  },
  {
   "cell_type": "code",
   "execution_count": 5,
   "metadata": {},
   "outputs": [
    {
     "name": "stdout",
     "output_type": "stream",
     "text": [
      "141.9999\n",
      "0 0 NWR 0.0 NWZ 3.0 NPR 0.0 NPZ 3.0 ZC 0.0\n",
      "0 1 NWR 3.0 NWZ 11.0 NPR 3.0 NPZ 11.0 ZC 0.0\n",
      "0 2 NWR 15.0 NWZ 20.0 NPR 15.0 NPZ 20.0 ZC 0.0\n",
      "0 3 NWR 20.0 NWZ 26.0 NPR 21.0 NPZ 27.0 ZC 1.0\n",
      "1 0 NWR 3.0 NWZ 11.0 NPR 3.0 NPZ 11.0 ZC 0.0\n",
      "1 1 NWR 11.0 NWZ 20.0 NPR 11.0 NPZ 20.0 ZC 0.0\n",
      "1 2 NWR 20.0 NWZ 27.0 NPR 20.0 NPZ 27.0 ZC 0.0\n",
      "1 3 NWR 27.0 NWZ 36.0 NPR 27.0 NPZ 36.0 ZC 0.0\n",
      "2 0 NWR 16.0 NWZ 20.0 NPR 16.0 NPZ 20.0 ZC 0.0\n",
      "2 1 NWR 20.0 NWZ 27.0 NPR 20.0 NPZ 27.0 ZC 0.0\n",
      "2 2 NWR 27.0 NWZ 35.0 NPR 27.0 NPZ 35.0 ZC 0.0\n",
      "2 3 NWR 35.0 NWZ 42.0 NPR 35.0 NPZ 42.0 ZC 0.0\n",
      "0 0 ckdo 0.0 ckgo 0.0\n",
      "0 1 ckdo 0.0 ckgo 0.0\n",
      "0 2 ckdo 0.0 ckgo 0.0\n",
      "0 3 ckdo 0.0 ckgo 0.0\n",
      "1 0 ckdo 0.0 ckgo 0.0\n",
      "1 1 ckdo 0.0 ckgo 0.0\n",
      "1 2 ckdo 0.0 ckgo 0.0\n",
      "1 3 ckdo 1.0 ckgo 0.0\n",
      "0 0 ckdb 0.0 ckgb 0.0\n",
      "0 1 ckdb 0.0 ckgb 0.0\n",
      "0 2 ckdb 0.0 ckgb 0.0\n",
      "1 0 ckdb 0.0 ckgb 0.0\n",
      "1 1 ckdb 0.0 ckgb 0.0\n",
      "1 2 ckdb 0.0 ckgb 0.0\n",
      "2 0 ckdb 0.0 ckgb 0.0\n",
      "2 1 ckdb 0.0 ckgb 0.0\n",
      "2 2 ckdb 0.0 ckgb 0.0\n"
     ]
    },
    {
     "data": {
      "text/plain": [
       "<__main__.TCM at 0x268e6181be0>"
      ]
     },
     "execution_count": 5,
     "metadata": {},
     "output_type": "execute_result"
    }
   ],
   "source": [
    "tcdo=[[0,0,0,0],\n",
    "    [0,0,0,0]]\n",
    "tcdb=[[0,0,0],\n",
    "    [0,0,0],\n",
    "    [0,0,0]]\n",
    "    \n",
    "tcgo=[[100,100,0,100],\n",
    "    [100,100,0,100]]\n",
    "tcgb=[[100,100,100],\n",
    "    [100,100,100],\n",
    "    [0,0,0]]\n",
    "    \n",
    "cwdo=[[100,100,10000,100],\n",
    "    [100,100,10000,100]]\n",
    "cwdb=[[100,100,100],\n",
    "    [100,100,100],\n",
    "    [10000,10000,10000]]\n",
    "    \n",
    "cwgo=[[100,100,10000,100],\n",
    "    [100,100,10000,100]]\n",
    "cwgb=[[100,100,100],\n",
    "    [100,100,100],\n",
    "    [10000,10000,10000]]\n",
    "\n",
    "\n",
    "TCM(t,tcdo,tcdb,tcgo,tcgb,cwdo,cwdb,cwgo,cwgb)"
   ]
  },
  {
   "cell_type": "markdown",
   "metadata": {},
   "source": [
    "# Model 5: Jedna brygada może pracować na kilku obiektach"
   ]
  },
  {
   "cell_type": "code",
   "execution_count": 6,
   "metadata": {},
   "outputs": [
    {
     "name": "stdout",
     "output_type": "stream",
     "text": [
      "40.99829999999999\n",
      "0 0 NWR 0.0 NWZ 3.0 NPR 0.0 NPZ 3.0 ZC 0.0\n",
      "0 1 NWR 3.0 NWZ 11.0 NPR 3.0 NPZ 11.0 ZC 0.0\n",
      "0 2 NWR 11.0 NWZ 16.0 NPR 15.0 NPZ 20.0 ZC 4.0\n",
      "0 3 NWR 16.0 NWZ 22.0 NPR 21.0 NPZ 27.0 ZC 5.0\n",
      "1 0 NWR 2.0 NWZ 10.0 NPR 2.0 NPZ 10.0 ZC 0.0\n",
      "1 1 NWR 10.0 NWZ 19.0 NPR 10.0 NPZ 19.0 ZC 0.0\n",
      "1 2 NWR 19.0 NWZ 26.0 NPR 19.0 NPZ 26.0 ZC 0.0\n",
      "1 3 NWR 26.0 NWZ 35.0 NPR 26.0 NPZ 35.0 ZC 0.0\n",
      "2 0 NWR 9.0 NWZ 13.0 NPR 15.0 NPZ 19.0 ZC 6.0\n",
      "2 1 NWR 18.0 NWZ 25.0 NPR 19.0 NPZ 26.0 ZC 1.0\n",
      "2 2 NWR 25.0 NWZ 33.0 NPR 26.0 NPZ 34.0 ZC 1.0\n",
      "2 3 NWR 34.0 NWZ 41.0 NPR 34.0 NPZ 41.0 ZC 0.0\n",
      "0 0 ckdo 0.0 ckgo 0.0\n",
      "0 1 ckdo 0.0 ckgo 0.0\n",
      "0 2 ckdo 0.0 ckgo 0.0\n",
      "0 3 ckdo 0.0 ckgo 0.0\n",
      "1 0 ckdo 0.0 ckgo 0.0\n",
      "1 1 ckdo 0.0 ckgo 0.0\n",
      "1 2 ckdo 0.0 ckgo 0.0\n",
      "1 3 ckdo 0.0 ckgo 0.0\n",
      "0 0 ckdb 0.0 ckgb 0.0\n",
      "0 1 ckdb 0.0 ckgb 0.0\n",
      "0 2 ckdb 0.0 ckgb 0.0\n",
      "1 0 ckdb 0.0 ckgb 0.0\n",
      "1 1 ckdb 0.0 ckgb 0.0\n",
      "1 2 ckdb 0.0 ckgb 0.0\n",
      "2 0 ckdb 0.0 ckgb 0.0\n",
      "2 1 ckdb 0.0 ckgb 0.0\n",
      "2 2 ckdb 0.0 ckgb 0.0\n"
     ]
    },
    {
     "data": {
      "text/plain": [
       "<__main__.TCM at 0x268e82accf8>"
      ]
     },
     "execution_count": 6,
     "metadata": {},
     "output_type": "execute_result"
    }
   ],
   "source": [
    "tcdo=[[-1,-1,-1,-1],\n",
    "    [-1,-1,-1,-1]]\n",
    "tcdb=[[0,0,0],\n",
    "    [0,0,0],\n",
    "    [0,0,0]]\n",
    "    \n",
    "tcgo=[[100,100,100,100],\n",
    "    [100,100,100,100]]\n",
    "tcgb=[[100,100,100],\n",
    "    [100,100,100],\n",
    "    [100,100,100]]\n",
    "    \n",
    "cwdo=[[100,100,100,100],\n",
    "    [100,100,100,100]]\n",
    "cwdb=[[100,100,100],\n",
    "    [100,100,100],\n",
    "    [100,100,100]]\n",
    "    \n",
    "cwgo=[[100,100,100,100],\n",
    "    [100,100,100,100]]\n",
    "cwgb=[[100,100,100],\n",
    "    [100,100,100],\n",
    "    [100,100,100]]\n",
    "\n",
    "\n",
    "TCM(t,tcdo,tcdb,tcgo,tcgb,cwdo,cwdb,cwgo,cwgb)"
   ]
  },
  {
   "cell_type": "markdown",
   "metadata": {},
   "source": [
    "# Model 6: Na jednym obiekcie może pracować więcej niż jedna brygada"
   ]
  },
  {
   "cell_type": "code",
   "execution_count": 7,
   "metadata": {},
   "outputs": [
    {
     "name": "stdout",
     "output_type": "stream",
     "text": [
      "39.9983\n",
      "0 0 NWR 0.0 NWZ 3.0 NPR 0.0 NPZ 3.0 ZC 0.0\n",
      "0 1 NWR 2.0 NWZ 10.0 NPR 2.0 NPZ 10.0 ZC 0.0\n",
      "0 2 NWR 9.0 NWZ 14.0 NPR 13.0 NPZ 18.0 ZC 4.0\n",
      "0 3 NWR 13.0 NWZ 19.0 NPR 18.0 NPZ 24.0 ZC 5.0\n",
      "1 0 NWR 3.0 NWZ 11.0 NPR 3.0 NPZ 11.0 ZC 0.0\n",
      "1 1 NWR 10.0 NWZ 19.0 NPR 10.0 NPZ 19.0 ZC 0.0\n",
      "1 2 NWR 18.0 NWZ 25.0 NPR 18.0 NPZ 25.0 ZC 0.0\n",
      "1 3 NWR 24.0 NWZ 33.0 NPR 24.0 NPZ 33.0 ZC 0.0\n",
      "2 0 NWR 11.0 NWZ 15.0 NPR 17.0 NPZ 21.0 ZC 6.0\n",
      "2 1 NWR 19.0 NWZ 26.0 NPR 20.0 NPZ 27.0 ZC 1.0\n",
      "2 2 NWR 25.0 NWZ 33.0 NPR 26.0 NPZ 34.0 ZC 1.0\n",
      "2 3 NWR 33.0 NWZ 40.0 NPR 33.0 NPZ 40.0 ZC 0.0\n",
      "0 0 ckdo 0.0 ckgo 0.0\n",
      "0 1 ckdo 0.0 ckgo 0.0\n",
      "0 2 ckdo 0.0 ckgo 0.0\n",
      "0 3 ckdo 0.0 ckgo 0.0\n",
      "1 0 ckdo 0.0 ckgo 0.0\n",
      "1 1 ckdo 0.0 ckgo 0.0\n",
      "1 2 ckdo 0.0 ckgo 0.0\n",
      "1 3 ckdo 0.0 ckgo 0.0\n",
      "0 0 ckdb 0.0 ckgb 0.0\n",
      "0 1 ckdb 0.0 ckgb 0.0\n",
      "0 2 ckdb 0.0 ckgb 0.0\n",
      "1 0 ckdb 0.0 ckgb 0.0\n",
      "1 1 ckdb 0.0 ckgb 0.0\n",
      "1 2 ckdb 0.0 ckgb 0.0\n",
      "2 0 ckdb 0.0 ckgb 0.0\n",
      "2 1 ckdb 0.0 ckgb 0.0\n",
      "2 2 ckdb 0.0 ckgb 0.0\n"
     ]
    },
    {
     "data": {
      "text/plain": [
       "<__main__.TCM at 0x268e86d1dd8>"
      ]
     },
     "execution_count": 7,
     "metadata": {},
     "output_type": "execute_result"
    }
   ],
   "source": [
    "tcdo=[[0,0,0,0],\n",
    "    [0,0,0,0]]\n",
    "tcdb=[[-1,-1,-1],\n",
    "    [-1,-1,-1],\n",
    "    [-1,-1,-1]]\n",
    "    \n",
    "tcgo=[[100,100,100,100],\n",
    "    [100,100,100,100]]\n",
    "tcgb=[[100,100,100],\n",
    "    [100,100,100],\n",
    "    [100,100,100]]\n",
    "    \n",
    "cwdo=[[100,100,100,100],\n",
    "    [100,100,100,100]]\n",
    "cwdb=[[100,100,100],\n",
    "    [100,100,100],\n",
    "    [100,100,100]]\n",
    "    \n",
    "cwgo=[[100,100,100,100],\n",
    "    [100,100,100,100]]\n",
    "cwgb=[[100,100,100],\n",
    "    [100,100,100],\n",
    "    [100,100,100]]\n",
    "\n",
    "\n",
    "TCM(t,tcdo,tcdb,tcgo,tcgb,cwdo,cwdb,cwgo,cwgb)"
   ]
  },
  {
   "cell_type": "markdown",
   "metadata": {},
   "source": [
    "# Model 7: Zazębianie się pomiędzy obiektami i brygadami"
   ]
  },
  {
   "cell_type": "code",
   "execution_count": 8,
   "metadata": {},
   "outputs": [
    {
     "name": "stdout",
     "output_type": "stream",
     "text": [
      "37.99829999999999\n",
      "0 0 NWR 0.0 NWZ 3.0 NPR 0.0 NPZ 3.0 ZC 0.0\n",
      "0 1 NWR 2.0 NWZ 10.0 NPR 2.0 NPZ 10.0 ZC 0.0\n",
      "0 2 NWR 9.0 NWZ 14.0 NPR 13.0 NPZ 18.0 ZC 4.0\n",
      "0 3 NWR 13.0 NWZ 19.0 NPR 18.0 NPZ 24.0 ZC 5.0\n",
      "1 0 NWR 2.0 NWZ 10.0 NPR 2.0 NPZ 10.0 ZC 0.0\n",
      "1 1 NWR 9.0 NWZ 18.0 NPR 9.0 NPZ 18.0 ZC 0.0\n",
      "1 2 NWR 17.0 NWZ 24.0 NPR 17.0 NPZ 24.0 ZC 0.0\n",
      "1 3 NWR 23.0 NWZ 32.0 NPR 23.0 NPZ 32.0 ZC 0.0\n",
      "2 0 NWR 9.0 NWZ 13.0 NPR 15.0 NPZ 19.0 ZC 6.0\n",
      "2 1 NWR 17.0 NWZ 24.0 NPR 18.0 NPZ 25.0 ZC 1.0\n",
      "2 2 NWR 23.0 NWZ 31.0 NPR 24.0 NPZ 32.0 ZC 1.0\n",
      "2 3 NWR 31.0 NWZ 38.0 NPR 31.0 NPZ 38.0 ZC 0.0\n",
      "0 0 ckdo 0.0 ckgo 0.0\n",
      "0 1 ckdo 0.0 ckgo 0.0\n",
      "0 2 ckdo 0.0 ckgo 0.0\n",
      "0 3 ckdo 0.0 ckgo 0.0\n",
      "1 0 ckdo 0.0 ckgo 0.0\n",
      "1 1 ckdo 0.0 ckgo 0.0\n",
      "1 2 ckdo 0.0 ckgo 0.0\n",
      "1 3 ckdo 0.0 ckgo 0.0\n",
      "0 0 ckdb 0.0 ckgb 0.0\n",
      "0 1 ckdb 0.0 ckgb 0.0\n",
      "0 2 ckdb 0.0 ckgb 0.0\n",
      "1 0 ckdb 0.0 ckgb 0.0\n",
      "1 1 ckdb 0.0 ckgb 0.0\n",
      "1 2 ckdb 0.0 ckgb 0.0\n",
      "2 0 ckdb 0.0 ckgb 0.0\n",
      "2 1 ckdb 0.0 ckgb 0.0\n",
      "2 2 ckdb 0.0 ckgb 0.0\n"
     ]
    },
    {
     "data": {
      "text/plain": [
       "<__main__.TCM at 0x268e6159fd0>"
      ]
     },
     "execution_count": 8,
     "metadata": {},
     "output_type": "execute_result"
    }
   ],
   "source": [
    "tcdo=[[-1,-1,-1,-1],\n",
    "    [-1,-1,-1,-1]]\n",
    "tcdb=[[-1,-1,-1],\n",
    "    [-1,-1,-1],\n",
    "    [-1,-1,-1]]\n",
    "    \n",
    "tcgo=[[100,100,100,100],\n",
    "    [100,100,100,100]]\n",
    "tcgb=[[100,100,100],\n",
    "    [100,100,100],\n",
    "    [100,100,100]]\n",
    "    \n",
    "cwdo=[[100,100,100,100],\n",
    "    [100,100,100,100]]\n",
    "cwdb=[[100,100,100],\n",
    "    [100,100,100],\n",
    "    [100,100,100]]\n",
    "    \n",
    "cwgo=[[100,100,100,100],\n",
    "    [100,100,100,100]]\n",
    "cwgb=[[100,100,100],\n",
    "    [100,100,100],\n",
    "    [100,100,100]]\n",
    "\n",
    "\n",
    "TCM(t,tcdo,tcdb,tcgo,tcgb,cwdo,cwdb,cwgo,cwgb)"
   ]
  },
  {
   "cell_type": "markdown",
   "metadata": {},
   "source": [
    "# Model 8: Harmonogramowanie priorytetowe"
   ]
  },
  {
   "cell_type": "code",
   "execution_count": 9,
   "metadata": {},
   "outputs": [
    {
     "name": "stdout",
     "output_type": "stream",
     "text": [
      "42.999399999999994\n",
      "0 0 NWR 0.0 NWZ 3.0 NPR 0.0 NPZ 3.0 ZC 0.0\n",
      "0 1 NWR 3.0 NWZ 11.0 NPR 3.0 NPZ 11.0 ZC 0.0\n",
      "0 2 NWR 15.0 NWZ 20.0 NPR 15.0 NPZ 20.0 ZC 0.0\n",
      "0 3 NWR 20.0 NWZ 26.0 NPR 21.0 NPZ 27.0 ZC 1.0\n",
      "1 0 NWR 3.0 NWZ 11.0 NPR 3.0 NPZ 11.0 ZC 0.0\n",
      "1 1 NWR 11.0 NWZ 20.0 NPR 11.0 NPZ 20.0 ZC 0.0\n",
      "1 2 NWR 20.0 NWZ 27.0 NPR 20.0 NPZ 27.0 ZC 0.0\n",
      "1 3 NWR 27.0 NWZ 36.0 NPR 27.0 NPZ 36.0 ZC 0.0\n",
      "2 0 NWR 11.0 NWZ 15.0 NPR 16.0 NPZ 20.0 ZC 5.0\n",
      "2 1 NWR 20.0 NWZ 27.0 NPR 20.0 NPZ 27.0 ZC 0.0\n",
      "2 2 NWR 27.0 NWZ 35.0 NPR 27.0 NPZ 35.0 ZC 0.0\n",
      "2 3 NWR 36.0 NWZ 43.0 NPR 36.0 NPZ 43.0 ZC 0.0\n",
      "0 0 ckdo 0.0 ckgo 0.0\n",
      "0 1 ckdo 0.0 ckgo 0.0\n",
      "0 2 ckdo 0.0 ckgo 0.0\n",
      "0 3 ckdo 0.0 ckgo 0.0\n",
      "1 0 ckdo 0.0 ckgo 0.0\n",
      "1 1 ckdo 0.0 ckgo 0.0\n",
      "1 2 ckdo 0.0 ckgo 0.0\n",
      "1 3 ckdo 0.0 ckgo 0.0\n",
      "0 0 ckdb 0.0 ckgb 0.0\n",
      "0 1 ckdb 0.0 ckgb 0.0\n",
      "0 2 ckdb 0.0 ckgb 0.0\n",
      "1 0 ckdb 0.0 ckgb 0.0\n",
      "1 1 ckdb 0.0 ckgb 0.0\n",
      "1 2 ckdb 0.0 ckgb 0.0\n",
      "2 0 ckdb 0.0 ckgb 0.0\n",
      "2 1 ckdb 0.0 ckgb 0.0\n",
      "2 2 ckdb 0.0 ckgb 0.0\n"
     ]
    },
    {
     "data": {
      "text/plain": [
       "<__main__.TCM at 0x268e6185c50>"
      ]
     },
     "execution_count": 9,
     "metadata": {},
     "output_type": "execute_result"
    }
   ],
   "source": [
    "t=[[3,8,5,6],\n",
    "    [8,9,7,9],\n",
    "    [4,7,8,7]]\n",
    "    \n",
    "tcdo=[[0,0,0,0],\n",
    "    [0,0,0,0]]\n",
    "tcdb=[[0,0,0],\n",
    "    [0,0,0],\n",
    "    [0,0,0]]\n",
    "    \n",
    "tcgo=[[100,0,0,100],\n",
    "    [100,0,0,100]]\n",
    "tcgb=[[100,100,100],\n",
    "    [0,0,0],\n",
    "    [100,100,100]]\n",
    "    \n",
    "cwdo=[[100,10000,100000000,100],\n",
    "    [100,10000,100000000,100]]\n",
    "cwdb=[[100,100,100],\n",
    "    [1000000,1000000,1000000],\n",
    "    [100,100,100]]\n",
    "    \n",
    "cwgo=[[100,10000,100000000,100],\n",
    "    [100,10000,100000000,100]]\n",
    "cwgb=[[100,100,100],\n",
    "    [1000000,1000000,1000000],\n",
    "    [100,100,100]]\n",
    "\n",
    "\n",
    "TCM(t,tcdo,tcdb,tcgo,tcgb,cwdo,cwdb,cwgo,cwgb)"
   ]
  },
  {
   "cell_type": "code",
   "execution_count": null,
   "metadata": {
    "collapsed": true
   },
   "outputs": [],
   "source": []
  }
 ],
 "metadata": {
  "anaconda-cloud": {},
  "kernelspec": {
   "display_name": "Python [conda root]",
   "language": "python",
   "name": "conda-root-py"
  },
  "language_info": {
   "codemirror_mode": {
    "name": "ipython",
    "version": 3
   },
   "file_extension": ".py",
   "mimetype": "text/x-python",
   "name": "python",
   "nbconvert_exporter": "python",
   "pygments_lexer": "ipython3",
   "version": "3.5.2"
  }
 },
 "nbformat": 4,
 "nbformat_minor": 1
}
